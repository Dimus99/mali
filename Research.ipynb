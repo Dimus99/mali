{
 "cells": [
  {
   "cell_type": "code",
   "execution_count": null,
   "id": "5b814f51",
   "metadata": {},
   "outputs": [],
   "source": []
  },
  {
   "cell_type": "code",
   "execution_count": 18,
   "id": "555ae03d",
   "metadata": {},
   "outputs": [],
   "source": [
    "#btc\n",
    "import hashlib\n",
    "import struct\n",
    "import sys\n",
    "from binascii import unhexlify, hexlify"
   ]
  },
  {
   "cell_type": "code",
   "execution_count": 13,
   "id": "3f30529d",
   "metadata": {},
   "outputs": [
    {
     "data": {
      "text/plain": [
       "'563412'"
      ]
     },
     "execution_count": 13,
     "metadata": {},
     "output_type": "execute_result"
    }
   ],
   "source": [
    "def BE_TO_LE(num):\n",
    "    num = num[::-1]\n",
    "    res = []\n",
    "    for i in range(0,len(num),2):\n",
    "        res.append(num[i+1])\n",
    "        res.append(num[i])\n",
    "    return ''.join(res)\n",
    "BE_TO_LE(\"123456\")"
   ]
  },
  {
   "cell_type": "code",
   "execution_count": 9,
   "id": "9e028932",
   "metadata": {},
   "outputs": [],
   "source": [
    "import hashlib\n",
    "\n",
    "\n",
    "def get_sha_256_hash(input_value):\n",
    "    return hashlib.sha256(input_value).hexdigest()\n",
    "\n",
    "\n",
    "def block_hash_less_than_target(block_hash, given_target):\n",
    "    return int(block_hash, 16) < int(given_target, 16)\n",
    "\n",
    "\n",
    "# # Initial block data (the transactions' merkle tree root, timestamp, client version, hash of the previous block)\n",
    "# version = \"01000000\"\n",
    "# prev_block=  \"0000000000000000000000000000000000000000000000000000000000000000\"\n",
    "# merkle_root= \"3BA3EDFD7A7B12B27AC72C3E67768F617FC81BC3888A51323A9FB8AA4B1E5E4A\"\n",
    "# timestamp=   \"29AB5F49\"\n",
    "# bits=        \"FFFF001D\"\n",
    "# nonce=        \"1DAC2B7C\"\n",
    "# num_txs=    \"01\"\n",
    "\n",
    "# blockData = \\\n",
    "#     '01000000000000000000000000000000000000000000000000000000000000000000000' \\\n",
    "#     '03ba3edfd7a7b12b27ac72c3e67768f617fc81bc3888a51323a9fb8aa4b1e5e4a29ab5f' \\\n",
    "#     '49ffff001d1dac2b7c01010000000100000000000000000000000000000000000000000' \\\n",
    "#     '00000000000000000000000ffffffff4d04ffff001d0104455468652054696d65732030' \\\n",
    "#     '332f4a616e2f32303039204368616e63656c6c6f72206f6e20627266e6b206f66207365' \\\n",
    "#     '636f6e64206261696c6f757420666f722062616e6b73ffffffff0100f2052a010000004' \\\n",
    "#     '34104678afdb0fe5548271967f1a67130b7105cd6a828e03909a67962e0ea1f61deb649' \\\n",
    "#     'f6bc3f4cef38c4f35504e51ec112de5c384df7ba0b8d578a4c702b6bf11d5fac00000000' \\\n",
    "#         .encode()\n",
    "\n",
    "# # Initial target - this is the easiest it will ever be to mine a Bitcoin block\n",
    "# target = '0x00000000FFFFFFFFFFFFFFFFFFFFFFFFFFFFFFFFFFFFFFFFFFFFFFFFFFFFFFFF'\n"
   ]
  },
  {
   "cell_type": "code",
   "execution_count": null,
   "id": "951223e3",
   "metadata": {},
   "outputs": [],
   "source": [
    "version= \"01000000\"\n",
    "per_block = \"b6ff0b1b1680a2862a30ca44d346d9e8910d334beb48ca0c0000000000000000\"\n",
    "merkle_root = \"9d10aa52ee949386ca9385695f04ede270dda20810decd12bc9b048aaab31471\"\n",
    "uniix_time = \"24d95a54\" #[Unix time][unix epoch time]: 1415239972\n",
    "target = \"30c31b18\" #Target: 0x1bc330 * 256**(0x18-3)\n",
    "nonce = \"fe9f0864\""
   ]
  },
  {
   "cell_type": "code",
   "execution_count": 27,
   "id": "db121f50",
   "metadata": {},
   "outputs": [],
   "source": [
    "example1 ={\n",
    "    \"index\": 100000,\n",
    "    \"hash\": \"000000000003ba27aa200b1cecaad478d2b00432346c3f1f3986da1afd33e506\",\n",
    "    \"version\": BE_TO_LE(\"00000001\"),\n",
    "    \"prev_block\": BE_TO_LE(\"000000000002d01c1fccc21636b607dfd930d31d01c3a62104612a1719011250\"),\n",
    "    \"merkle_root\": BE_TO_LE(\"f3e94742aca4b5ef85488dc37c06c3282295ffec960994b2c0d5ac2a25a95766\"),\n",
    "    \"bits\": BE_TO_LE(str(hex(453281356))[2:]),\n",
    "    \"timestamp\": BE_TO_LE(str(hex(1293623863))[2:]),\n",
    "    \"nonce\": BE_TO_LE(str(hex(274148111))[2:])\n",
    "                        \n",
    "}"
   ]
  },
  {
   "cell_type": "code",
   "execution_count": null,
   "id": "b0d2d3ff",
   "metadata": {},
   "outputs": [],
   "source": [
    "solution_found = False\n",
    "block_data_hexadecimal_value = int(blockData, 16)\n",
    "nonce = 0\n",
    "\n",
    "while not solution_found:\n",
    "    block_data_with_nonce = block_data_hexadecimal_value + nonce\n",
    "\n",
    "    # Find double hash\n",
    "    first_hash = get_sha_256_hash(hex(block_data_with_nonce).encode())\n",
    "    second_hash = get_sha_256_hash(first_hash.encode())\n",
    "\n",
    "    print('Nonce: ' + str(nonce))\n",
    "\n",
    "    print('Block hash:')\n",
    "    print(second_hash)\n",
    "\n",
    "    print('Is the block hash less than the target?')\n",
    "    solution_found = block_hash_less_than_target(second_hash, target)\n",
    "    print(solution_found)\n",
    "\n",
    "    if not solution_found:\n",
    "        nonce += 1"
   ]
  },
  {
   "cell_type": "code",
   "execution_count": 30,
   "id": "06056080",
   "metadata": {},
   "outputs": [],
   "source": [
    "def check(example):\n",
    "    data = example[\"version\"] + example[\"prev_block\"] + example[\"merkle_root\"] + example[\"timestamp\"] + example[\"bits\"] + example[\"nonce\"]\n",
    "    header_bin = unhexlify(data)\n",
    "    hash = hashlib.sha256(hashlib.sha256(header_bin).digest()).digest()\n",
    "    print(hexlify(hash[::-1]).decode(\"utf-8\"))"
   ]
  },
  {
   "cell_type": "code",
   "execution_count": 31,
   "id": "3580c3fe",
   "metadata": {
    "scrolled": true
   },
   "outputs": [
    {
     "name": "stdout",
     "output_type": "stream",
     "text": [
      "000000000003ba27aa200b1cecaad478d2b00432346c3f1f3986da1afd33e506\n",
      "000000000003ba27aa200b1cecaad478d2b00432346c3f1f3986da1afd33e506\n"
     ]
    }
   ],
   "source": [
    "print(example1[\"hash\"])\n",
    "check(example1)"
   ]
  }
 ],
 "metadata": {
  "kernelspec": {
   "display_name": "Python 3 (ipykernel)",
   "language": "python",
   "name": "python3"
  },
  "language_info": {
   "codemirror_mode": {
    "name": "ipython",
    "version": 3
   },
   "file_extension": ".py",
   "mimetype": "text/x-python",
   "name": "python",
   "nbconvert_exporter": "python",
   "pygments_lexer": "ipython3",
   "version": "3.9.6"
  }
 },
 "nbformat": 4,
 "nbformat_minor": 5
}
